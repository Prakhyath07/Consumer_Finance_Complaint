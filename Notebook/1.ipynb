{
 "cells": [
  {
   "cell_type": "code",
   "execution_count": 1,
   "metadata": {},
   "outputs": [],
   "source": [
    "URL =\"https://www.consumerfinance.gov/data-research/consumer-complaints/search/api/v1/?date_received_max=2022-11-24&date_received_min=2022-11-23&field=all&format=json\""
   ]
  },
  {
   "cell_type": "code",
   "execution_count": 5,
   "metadata": {},
   "outputs": [],
   "source": [
    "import json\n",
    "import requests"
   ]
  },
  {
   "cell_type": "code",
   "execution_count": 2,
   "metadata": {},
   "outputs": [],
   "source": [
    "\n",
    "data = requests.get(URL)\n"
   ]
  },
  {
   "cell_type": "code",
   "execution_count": 22,
   "metadata": {},
   "outputs": [],
   "source": [
    "with open(\"../filtered_data.json\", \"w\") as file_obj:\n",
    "    finance_complaint_data = list(map(lambda x: x[\"_source\"],\n",
    "                                                json.loads(data.content)))\n",
    "                                    \n",
    "\n",
    "    json.dump(finance_complaint_data, file_obj)\n"
   ]
  },
  {
   "cell_type": "code",
   "execution_count": 23,
   "metadata": {},
   "outputs": [
    {
     "data": {
      "text/html": [
       "<div>\n",
       "<style scoped>\n",
       "    .dataframe tbody tr th:only-of-type {\n",
       "        vertical-align: middle;\n",
       "    }\n",
       "\n",
       "    .dataframe tbody tr th {\n",
       "        vertical-align: top;\n",
       "    }\n",
       "\n",
       "    .dataframe thead th {\n",
       "        text-align: right;\n",
       "    }\n",
       "</style>\n",
       "<table border=\"1\" class=\"dataframe\">\n",
       "  <thead>\n",
       "    <tr style=\"text-align: right;\">\n",
       "      <th></th>\n",
       "      <th>product</th>\n",
       "      <th>complaint_what_happened</th>\n",
       "      <th>date_sent_to_company</th>\n",
       "      <th>issue</th>\n",
       "      <th>sub_product</th>\n",
       "      <th>zip_code</th>\n",
       "      <th>tags</th>\n",
       "      <th>complaint_id</th>\n",
       "      <th>timely</th>\n",
       "      <th>consumer_consent_provided</th>\n",
       "      <th>company_response</th>\n",
       "      <th>submitted_via</th>\n",
       "      <th>company</th>\n",
       "      <th>date_received</th>\n",
       "      <th>state</th>\n",
       "      <th>consumer_disputed</th>\n",
       "      <th>company_public_response</th>\n",
       "      <th>sub_issue</th>\n",
       "    </tr>\n",
       "  </thead>\n",
       "  <tbody>\n",
       "    <tr>\n",
       "      <th>0</th>\n",
       "      <td>Credit reporting, credit repair services, or o...</td>\n",
       "      <td></td>\n",
       "      <td>2022-11-23T12:00:00-05:00</td>\n",
       "      <td>Improper use of your report</td>\n",
       "      <td>Credit reporting</td>\n",
       "      <td>33880.0</td>\n",
       "      <td>None</td>\n",
       "      <td>6232086</td>\n",
       "      <td>Yes</td>\n",
       "      <td>None</td>\n",
       "      <td>In progress</td>\n",
       "      <td>Web</td>\n",
       "      <td>TRANSUNION INTERMEDIATE HOLDINGS, INC.</td>\n",
       "      <td>2022-11-23T12:00:00-05:00</td>\n",
       "      <td>FL</td>\n",
       "      <td>N/A</td>\n",
       "      <td>None</td>\n",
       "      <td>Credit inquiries on your report that you don't...</td>\n",
       "    </tr>\n",
       "    <tr>\n",
       "      <th>1</th>\n",
       "      <td>Credit reporting, credit repair services, or o...</td>\n",
       "      <td></td>\n",
       "      <td>2022-11-23T12:00:00-05:00</td>\n",
       "      <td>Incorrect information on your report</td>\n",
       "      <td>Credit reporting</td>\n",
       "      <td>89052.0</td>\n",
       "      <td>None</td>\n",
       "      <td>6231821</td>\n",
       "      <td>Yes</td>\n",
       "      <td>None</td>\n",
       "      <td>In progress</td>\n",
       "      <td>Web</td>\n",
       "      <td>EQUIFAX, INC.</td>\n",
       "      <td>2022-11-23T12:00:00-05:00</td>\n",
       "      <td>NV</td>\n",
       "      <td>N/A</td>\n",
       "      <td>None</td>\n",
       "      <td>Information belongs to someone else</td>\n",
       "    </tr>\n",
       "    <tr>\n",
       "      <th>2</th>\n",
       "      <td>Credit reporting, credit repair services, or o...</td>\n",
       "      <td></td>\n",
       "      <td>2022-11-23T12:00:00-05:00</td>\n",
       "      <td>Problem with a credit reporting company's inve...</td>\n",
       "      <td>Credit reporting</td>\n",
       "      <td>7062.0</td>\n",
       "      <td>None</td>\n",
       "      <td>6231771</td>\n",
       "      <td>Yes</td>\n",
       "      <td>None</td>\n",
       "      <td>In progress</td>\n",
       "      <td>Web</td>\n",
       "      <td>TRANSUNION INTERMEDIATE HOLDINGS, INC.</td>\n",
       "      <td>2022-11-23T12:00:00-05:00</td>\n",
       "      <td>NJ</td>\n",
       "      <td>N/A</td>\n",
       "      <td>None</td>\n",
       "      <td>Their investigation did not fix an error on yo...</td>\n",
       "    </tr>\n",
       "    <tr>\n",
       "      <th>3</th>\n",
       "      <td>Credit reporting, credit repair services, or o...</td>\n",
       "      <td></td>\n",
       "      <td>2022-11-23T12:00:00-05:00</td>\n",
       "      <td>Improper use of your report</td>\n",
       "      <td>Credit reporting</td>\n",
       "      <td>90008.0</td>\n",
       "      <td>None</td>\n",
       "      <td>6232192</td>\n",
       "      <td>Yes</td>\n",
       "      <td>None</td>\n",
       "      <td>In progress</td>\n",
       "      <td>Web</td>\n",
       "      <td>EQUIFAX, INC.</td>\n",
       "      <td>2022-11-23T12:00:00-05:00</td>\n",
       "      <td>CA</td>\n",
       "      <td>N/A</td>\n",
       "      <td>None</td>\n",
       "      <td>Reporting company used your report improperly</td>\n",
       "    </tr>\n",
       "    <tr>\n",
       "      <th>4</th>\n",
       "      <td>Credit reporting, credit repair services, or o...</td>\n",
       "      <td></td>\n",
       "      <td>2022-11-23T12:00:00-05:00</td>\n",
       "      <td>Problem with a credit reporting company's inve...</td>\n",
       "      <td>Credit reporting</td>\n",
       "      <td>92395.0</td>\n",
       "      <td>None</td>\n",
       "      <td>6232276</td>\n",
       "      <td>Yes</td>\n",
       "      <td>None</td>\n",
       "      <td>In progress</td>\n",
       "      <td>Web</td>\n",
       "      <td>TRANSUNION INTERMEDIATE HOLDINGS, INC.</td>\n",
       "      <td>2022-11-23T12:00:00-05:00</td>\n",
       "      <td>CA</td>\n",
       "      <td>N/A</td>\n",
       "      <td>None</td>\n",
       "      <td>Their investigation did not fix an error on yo...</td>\n",
       "    </tr>\n",
       "  </tbody>\n",
       "</table>\n",
       "</div>"
      ],
      "text/plain": [
       "                                             product complaint_what_happened  \\\n",
       "0  Credit reporting, credit repair services, or o...                           \n",
       "1  Credit reporting, credit repair services, or o...                           \n",
       "2  Credit reporting, credit repair services, or o...                           \n",
       "3  Credit reporting, credit repair services, or o...                           \n",
       "4  Credit reporting, credit repair services, or o...                           \n",
       "\n",
       "        date_sent_to_company  \\\n",
       "0  2022-11-23T12:00:00-05:00   \n",
       "1  2022-11-23T12:00:00-05:00   \n",
       "2  2022-11-23T12:00:00-05:00   \n",
       "3  2022-11-23T12:00:00-05:00   \n",
       "4  2022-11-23T12:00:00-05:00   \n",
       "\n",
       "                                               issue       sub_product  \\\n",
       "0                        Improper use of your report  Credit reporting   \n",
       "1               Incorrect information on your report  Credit reporting   \n",
       "2  Problem with a credit reporting company's inve...  Credit reporting   \n",
       "3                        Improper use of your report  Credit reporting   \n",
       "4  Problem with a credit reporting company's inve...  Credit reporting   \n",
       "\n",
       "   zip_code  tags  complaint_id timely consumer_consent_provided  \\\n",
       "0   33880.0  None       6232086    Yes                      None   \n",
       "1   89052.0  None       6231821    Yes                      None   \n",
       "2    7062.0  None       6231771    Yes                      None   \n",
       "3   90008.0  None       6232192    Yes                      None   \n",
       "4   92395.0  None       6232276    Yes                      None   \n",
       "\n",
       "  company_response submitted_via                                 company  \\\n",
       "0      In progress           Web  TRANSUNION INTERMEDIATE HOLDINGS, INC.   \n",
       "1      In progress           Web                           EQUIFAX, INC.   \n",
       "2      In progress           Web  TRANSUNION INTERMEDIATE HOLDINGS, INC.   \n",
       "3      In progress           Web                           EQUIFAX, INC.   \n",
       "4      In progress           Web  TRANSUNION INTERMEDIATE HOLDINGS, INC.   \n",
       "\n",
       "               date_received state consumer_disputed company_public_response  \\\n",
       "0  2022-11-23T12:00:00-05:00    FL               N/A                    None   \n",
       "1  2022-11-23T12:00:00-05:00    NV               N/A                    None   \n",
       "2  2022-11-23T12:00:00-05:00    NJ               N/A                    None   \n",
       "3  2022-11-23T12:00:00-05:00    CA               N/A                    None   \n",
       "4  2022-11-23T12:00:00-05:00    CA               N/A                    None   \n",
       "\n",
       "                                           sub_issue  \n",
       "0  Credit inquiries on your report that you don't...  \n",
       "1                Information belongs to someone else  \n",
       "2  Their investigation did not fix an error on yo...  \n",
       "3      Reporting company used your report improperly  \n",
       "4  Their investigation did not fix an error on yo...  "
      ]
     },
     "execution_count": 23,
     "metadata": {},
     "output_type": "execute_result"
    }
   ],
   "source": [
    "import pandas as pd\n",
    "\n",
    "df=pd.read_json(\"../filtered_data.json\")\n",
    "\n",
    "df.head()"
   ]
  },
  {
   "cell_type": "code",
   "execution_count": 24,
   "metadata": {},
   "outputs": [
    {
     "data": {
      "text/plain": [
       "(1610, 18)"
      ]
     },
     "execution_count": 24,
     "metadata": {},
     "output_type": "execute_result"
    }
   ],
   "source": [
    "df.shape"
   ]
  },
  {
   "cell_type": "code",
   "execution_count": 25,
   "metadata": {},
   "outputs": [],
   "source": [
    "\n",
    "from pyspark.sql import SparkSession"
   ]
  },
  {
   "cell_type": "code",
   "execution_count": 2,
   "metadata": {},
   "outputs": [],
   "source": [
    "# spark.sparkContext.stop()"
   ]
  },
  {
   "cell_type": "code",
   "execution_count": 26,
   "metadata": {},
   "outputs": [
    {
     "name": "stderr",
     "output_type": "stream",
     "text": [
      "Setting default log level to \"WARN\".\n",
      "To adjust logging level use sc.setLogLevel(newLevel). For SparkR, use setLogLevel(newLevel).\n",
      "22/11/27 01:08:06 WARN NativeCodeLoader: Unable to load native-hadoop library for your platform... using builtin-java classes where applicable\n"
     ]
    }
   ],
   "source": [
    "spark = SparkSession.builder.master('local[*]').appName('finance_complaint')\\\n",
    ".config(\"spark.executor.instances\", \"1\")\\\n",
    ".config(\"spark.executor.memory\", \"6g\")\\\n",
    ".config(\"spark.driver.memory\", \"6g\")\\\n",
    ".config(\"spark.executor.memoryOverhead\", \"8g\")\\\n",
    ".getOrCreate()"
   ]
  },
  {
   "cell_type": "code",
   "execution_count": 27,
   "metadata": {},
   "outputs": [
    {
     "data": {
      "text/plain": [
       "[('spark.driver.host', '4d680389b3c9'),\n",
       " ('spark.sql.warehouse.dir',\n",
       "  'file:/config/workspace/Notebook/spark-warehouse'),\n",
       " ('spark.app.startTime', '1669491486652'),\n",
       " ('spark.executor.id', 'driver'),\n",
       " ('spark.executor.memory', '6g'),\n",
       " ('spark.app.name', 'finance_complaint'),\n",
       " ('spark.executor.memoryOverhead', '8g'),\n",
       " ('spark.driver.memory', '6g'),\n",
       " ('spark.rdd.compress', 'True'),\n",
       " ('spark.serializer.objectStreamReset', '100'),\n",
       " ('spark.executor.instances', '1'),\n",
       " ('spark.master', 'local[*]'),\n",
       " ('spark.driver.port', '44057'),\n",
       " ('spark.submit.pyFiles', ''),\n",
       " ('spark.submit.deployMode', 'client'),\n",
       " ('spark.app.id', 'local-1669491488284'),\n",
       " ('spark.ui.showConsoleProgress', 'true')]"
      ]
     },
     "execution_count": 27,
     "metadata": {},
     "output_type": "execute_result"
    }
   ],
   "source": [
    "spark.sparkContext._conf.getAll()"
   ]
  },
  {
   "cell_type": "code",
   "execution_count": 28,
   "metadata": {},
   "outputs": [
    {
     "name": "stderr",
     "output_type": "stream",
     "text": [
      "                                                                                \r"
     ]
    }
   ],
   "source": [
    "df = spark.read.json(\"../filtered_data.json\")"
   ]
  },
  {
   "cell_type": "code",
   "execution_count": 29,
   "metadata": {},
   "outputs": [
    {
     "data": {
      "text/plain": [
       "1610"
      ]
     },
     "execution_count": 29,
     "metadata": {},
     "output_type": "execute_result"
    }
   ],
   "source": [
    "df.count()"
   ]
  },
  {
   "cell_type": "code",
   "execution_count": 30,
   "metadata": {},
   "outputs": [
    {
     "name": "stdout",
     "output_type": "stream",
     "text": [
      "+--------------------+-----------------------+----------------+------------+-----------------------+-------------------------+-----------------+--------------------+--------------------+--------------------+--------------------+-----+--------------------+----------------+-------------+----+------+--------+\n",
      "|             company|company_public_response|company_response|complaint_id|complaint_what_happened|consumer_consent_provided|consumer_disputed|       date_received|date_sent_to_company|               issue|             product|state|           sub_issue|     sub_product|submitted_via|tags|timely|zip_code|\n",
      "+--------------------+-----------------------+----------------+------------+-----------------------+-------------------------+-----------------+--------------------+--------------------+--------------------+--------------------+-----+--------------------+----------------+-------------+----+------+--------+\n",
      "|TRANSUNION INTERM...|                   null|     In progress|     6232086|                       |                     null|              N/A|2022-11-23T12:00:...|2022-11-23T12:00:...|Improper use of y...|Credit reporting,...|   FL|Credit inquiries ...|Credit reporting|          Web|null|   Yes|   33880|\n",
      "|       EQUIFAX, INC.|                   null|     In progress|     6231821|                       |                     null|              N/A|2022-11-23T12:00:...|2022-11-23T12:00:...|Incorrect informa...|Credit reporting,...|   NV|Information belon...|Credit reporting|          Web|null|   Yes|   89052|\n",
      "|TRANSUNION INTERM...|                   null|     In progress|     6231771|                       |                     null|              N/A|2022-11-23T12:00:...|2022-11-23T12:00:...|Problem with a cr...|Credit reporting,...|   NJ|Their investigati...|Credit reporting|          Web|null|   Yes|   07062|\n",
      "|       EQUIFAX, INC.|                   null|     In progress|     6232192|                       |                     null|              N/A|2022-11-23T12:00:...|2022-11-23T12:00:...|Improper use of y...|Credit reporting,...|   CA|Reporting company...|Credit reporting|          Web|null|   Yes|   90008|\n",
      "|TRANSUNION INTERM...|                   null|     In progress|     6232276|                       |                     null|              N/A|2022-11-23T12:00:...|2022-11-23T12:00:...|Problem with a cr...|Credit reporting,...|   CA|Their investigati...|Credit reporting|          Web|null|   Yes|   92395|\n",
      "|       EQUIFAX, INC.|                   null|     In progress|     6232247|                       |                     null|              N/A|2022-11-23T12:00:...|2022-11-23T12:00:...|Improper use of y...|Credit reporting,...|   NJ|Reporting company...|Credit reporting|          Web|null|   Yes|   08332|\n",
      "|TRANSUNION INTERM...|                   null|     In progress|     6232170|                       |                     null|              N/A|2022-11-23T12:00:...|2022-11-23T12:00:...|Improper use of y...|Credit reporting,...|   FL|Credit inquiries ...|Credit reporting|          Web|null|   Yes|   34208|\n",
      "|TRANSUNION INTERM...|                   null|     In progress|     6232890|                       |                     null|              N/A|2022-11-23T12:00:...|2022-11-23T12:00:...|Improper use of y...|Credit reporting,...|   GA|Reporting company...|Credit reporting|          Web|null|   Yes|   30223|\n",
      "|       EQUIFAX, INC.|                   null|     In progress|     6232048|                       |                     null|              N/A|2022-11-23T12:00:...|2022-11-23T12:00:...|Improper use of y...|Credit reporting,...|   GA|Credit inquiries ...|Credit reporting|          Web|null|   Yes|   30350|\n",
      "|       EQUIFAX, INC.|                   null|     In progress|     6232701|                       |                     null|              N/A|2022-11-23T12:00:...|2022-11-23T12:00:...|Incorrect informa...|Credit reporting,...|   FL|Information belon...|Credit reporting|          Web|null|   Yes|   33321|\n",
      "|TRANSUNION INTERM...|                   null|     In progress|     6232679|                       |                     null|              N/A|2022-11-23T12:00:...|2022-11-23T12:00:...|Improper use of y...|Credit reporting,...|   FL|Reporting company...|Credit reporting|          Web|null|   Yes|   33880|\n",
      "|       EQUIFAX, INC.|                   null|     In progress|     6231750|                       |                     null|              N/A|2022-11-23T12:00:...|2022-11-23T12:00:...|Improper use of y...|Credit reporting,...|   NC|Reporting company...|Credit reporting|          Web|null|   Yes|   28269|\n",
      "|       EQUIFAX, INC.|                   null|     In progress|     6231773|                       |                     null|              N/A|2022-11-23T12:00:...|2022-11-23T12:00:...|Incorrect informa...|Credit reporting,...|   AZ|Information belon...|Credit reporting|          Web|null|   Yes|   85032|\n",
      "|       EQUIFAX, INC.|                   null|     In progress|     6231804|                       |                     null|              N/A|2022-11-23T12:00:...|2022-11-23T12:00:...|Problem with a cr...|Credit reporting,...|   TX|Their investigati...|Credit reporting|          Web|null|   Yes|   75057|\n",
      "|       EQUIFAX, INC.|                   null|     In progress|     6231820|                       |                     null|              N/A|2022-11-23T12:00:...|2022-11-23T12:00:...|Problem with a cr...|Credit reporting,...|   CA|Their investigati...|Credit reporting|          Web|null|   Yes|   92553|\n",
      "|       EQUIFAX, INC.|                   null|     In progress|     6236256|                       |                     null|              N/A|2022-11-23T12:00:...|2022-11-23T12:00:...|Problem with a cr...|Credit reporting,...|   FL|Their investigati...|Credit reporting|          Web|null|   Yes|   33463|\n",
      "|TRANSUNION INTERM...|                   null|     In progress|     6236384|                       |                     null|              N/A|2022-11-23T12:00:...|2022-11-23T12:00:...|Incorrect informa...|Credit reporting,...|   NJ|Account informati...|Credit reporting|          Web|null|   Yes|   07960|\n",
      "|TRANSUNION INTERM...|                   null|     In progress|     6232028|                       |                     null|              N/A|2022-11-23T12:00:...|2022-11-23T12:00:...|Incorrect informa...|Credit reporting,...|   PA|Information belon...|Credit reporting|          Web|null|   Yes|   19144|\n",
      "|       EQUIFAX, INC.|                   null|     In progress|     6232133|                       |                     null|              N/A|2022-11-23T12:00:...|2022-11-23T12:00:...|Incorrect informa...|Credit reporting,...|   WA|Information belon...|Credit reporting|          Web|null|   Yes|   98146|\n",
      "|       EQUIFAX, INC.|                   null|     In progress|     6232213|                       |                     null|              N/A|2022-11-23T12:00:...|2022-11-23T12:00:...|Problem with a cr...|Credit reporting,...|   GA|Their investigati...|Credit reporting|          Web|null|   Yes|   30083|\n",
      "+--------------------+-----------------------+----------------+------------+-----------------------+-------------------------+-----------------+--------------------+--------------------+--------------------+--------------------+-----+--------------------+----------------+-------------+----+------+--------+\n",
      "only showing top 20 rows\n",
      "\n"
     ]
    }
   ],
   "source": [
    "df.show()"
   ]
  },
  {
   "cell_type": "code",
   "execution_count": 31,
   "metadata": {},
   "outputs": [
    {
     "name": "stderr",
     "output_type": "stream",
     "text": [
      "                                                                                \r"
     ]
    }
   ],
   "source": [
    "df.write.mode('append').parquet(\"../complaint_data\")"
   ]
  },
  {
   "cell_type": "code",
   "execution_count": 33,
   "metadata": {},
   "outputs": [],
   "source": [
    "df=spark.read.parquet(\"../complaint_data\")"
   ]
  },
  {
   "cell_type": "code",
   "execution_count": 34,
   "metadata": {},
   "outputs": [
    {
     "data": {
      "text/plain": [
       "1610"
      ]
     },
     "execution_count": 34,
     "metadata": {},
     "output_type": "execute_result"
    }
   ],
   "source": [
    "df.count()"
   ]
  },
  {
   "cell_type": "code",
   "execution_count": 35,
   "metadata": {},
   "outputs": [
    {
     "name": "stdout",
     "output_type": "stream",
     "text": [
      "root\n",
      " |-- company: string (nullable = true)\n",
      " |-- company_public_response: string (nullable = true)\n",
      " |-- company_response: string (nullable = true)\n",
      " |-- complaint_id: string (nullable = true)\n",
      " |-- complaint_what_happened: string (nullable = true)\n",
      " |-- consumer_consent_provided: string (nullable = true)\n",
      " |-- consumer_disputed: string (nullable = true)\n",
      " |-- date_received: string (nullable = true)\n",
      " |-- date_sent_to_company: string (nullable = true)\n",
      " |-- issue: string (nullable = true)\n",
      " |-- product: string (nullable = true)\n",
      " |-- state: string (nullable = true)\n",
      " |-- sub_issue: string (nullable = true)\n",
      " |-- sub_product: string (nullable = true)\n",
      " |-- submitted_via: string (nullable = true)\n",
      " |-- tags: string (nullable = true)\n",
      " |-- timely: string (nullable = true)\n",
      " |-- zip_code: string (nullable = true)\n",
      "\n"
     ]
    }
   ],
   "source": [
    "df.printSchema()"
   ]
  },
  {
   "cell_type": "code",
   "execution_count": 37,
   "metadata": {},
   "outputs": [
    {
     "name": "stdout",
     "output_type": "stream",
     "text": [
      "+-----------------+\n",
      "|consumer_disputed|\n",
      "+-----------------+\n",
      "|              N/A|\n",
      "+-----------------+\n",
      "\n"
     ]
    }
   ],
   "source": [
    "df.select(\"consumer_disputed\").distinct().show()"
   ]
  },
  {
   "cell_type": "code",
   "execution_count": 12,
   "metadata": {},
   "outputs": [],
   "source": [
    "import pandas as pd"
   ]
  },
  {
   "cell_type": "code",
   "execution_count": 18,
   "metadata": {},
   "outputs": [
    {
     "data": {
      "text/plain": [
       "['2022-06-30', '2022-07-31', '2022-08-31', '2022-09-30', '2022-10-31']"
      ]
     },
     "execution_count": 18,
     "metadata": {},
     "output_type": "execute_result"
    }
   ],
   "source": [
    "pd.date_range(start='2022-06-01',end='2022-11-11',freq='M').astype('str').tolist()"
   ]
  },
  {
   "cell_type": "code",
   "execution_count": null,
   "metadata": {},
   "outputs": [],
   "source": []
  }
 ],
 "metadata": {
  "kernelspec": {
   "display_name": "Python 3.8.10 64-bit",
   "language": "python",
   "name": "python3"
  },
  "language_info": {
   "codemirror_mode": {
    "name": "ipython",
    "version": 3
   },
   "file_extension": ".py",
   "mimetype": "text/x-python",
   "name": "python",
   "nbconvert_exporter": "python",
   "pygments_lexer": "ipython3",
   "version": "3.8.10"
  },
  "orig_nbformat": 4,
  "vscode": {
   "interpreter": {
    "hash": "e7370f93d1d0cde622a1f8e1c04877d8463912d04d973331ad4851f04de6915a"
   }
  }
 },
 "nbformat": 4,
 "nbformat_minor": 2
}
