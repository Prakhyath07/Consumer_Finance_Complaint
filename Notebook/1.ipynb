{
 "cells": [
  {
   "cell_type": "code",
   "execution_count": 81,
   "metadata": {},
   "outputs": [],
   "source": [
    "URL =\"https://www.consumerfinance.gov/data-research/consumer-complaints/search/api/v1/?date_received_max=2016-11-24&date_received_min=2016-10-23&field=all&format=json\""
   ]
  },
  {
   "cell_type": "code",
   "execution_count": 82,
   "metadata": {},
   "outputs": [],
   "source": [
    "import json\n",
    "import requests"
   ]
  },
  {
   "cell_type": "code",
   "execution_count": 83,
   "metadata": {},
   "outputs": [],
   "source": [
    "\n",
    "data = requests.get(URL)\n"
   ]
  },
  {
   "cell_type": "code",
   "execution_count": 84,
   "metadata": {},
   "outputs": [],
   "source": [
    "with open(\"../filtered_data.json\", \"w\") as file_obj:\n",
    "    finance_complaint_data = list(map(lambda x: x[\"_source\"],\n",
    "                                                json.loads(data.content)))\n",
    "                                    \n",
    "\n",
    "    json.dump(finance_complaint_data, file_obj)\n"
   ]
  },
  {
   "cell_type": "code",
   "execution_count": 85,
   "metadata": {},
   "outputs": [
    {
     "data": {
      "text/html": [
       "<div>\n",
       "<style scoped>\n",
       "    .dataframe tbody tr th:only-of-type {\n",
       "        vertical-align: middle;\n",
       "    }\n",
       "\n",
       "    .dataframe tbody tr th {\n",
       "        vertical-align: top;\n",
       "    }\n",
       "\n",
       "    .dataframe thead th {\n",
       "        text-align: right;\n",
       "    }\n",
       "</style>\n",
       "<table border=\"1\" class=\"dataframe\">\n",
       "  <thead>\n",
       "    <tr style=\"text-align: right;\">\n",
       "      <th></th>\n",
       "      <th>product</th>\n",
       "      <th>complaint_what_happened</th>\n",
       "      <th>date_sent_to_company</th>\n",
       "      <th>issue</th>\n",
       "      <th>sub_product</th>\n",
       "      <th>zip_code</th>\n",
       "      <th>tags</th>\n",
       "      <th>complaint_id</th>\n",
       "      <th>timely</th>\n",
       "      <th>consumer_consent_provided</th>\n",
       "      <th>company_response</th>\n",
       "      <th>submitted_via</th>\n",
       "      <th>company</th>\n",
       "      <th>date_received</th>\n",
       "      <th>state</th>\n",
       "      <th>consumer_disputed</th>\n",
       "      <th>company_public_response</th>\n",
       "      <th>sub_issue</th>\n",
       "    </tr>\n",
       "  </thead>\n",
       "  <tbody>\n",
       "    <tr>\n",
       "      <th>0</th>\n",
       "      <td>Bank account or service</td>\n",
       "      <td>TRANSACTIONS, NONE. I did this XX/XX/XXXX afte...</td>\n",
       "      <td>2016-11-14T12:00:00-05:00</td>\n",
       "      <td>Problems caused by my funds being low</td>\n",
       "      <td>Checking account</td>\n",
       "      <td>20011.0</td>\n",
       "      <td>Servicemember</td>\n",
       "      <td>2206373</td>\n",
       "      <td>Yes</td>\n",
       "      <td>Consent provided</td>\n",
       "      <td>Closed with explanation</td>\n",
       "      <td>Web</td>\n",
       "      <td>M&amp;T BANK CORPORATION</td>\n",
       "      <td>2016-11-14T12:00:00-05:00</td>\n",
       "      <td>DC</td>\n",
       "      <td>Yes</td>\n",
       "      <td>Company has responded to the consumer and the ...</td>\n",
       "      <td>None</td>\n",
       "    </tr>\n",
       "    <tr>\n",
       "      <th>1</th>\n",
       "      <td>Mortgage</td>\n",
       "      <td></td>\n",
       "      <td>2016-12-20T12:00:00-05:00</td>\n",
       "      <td>Loan modification,collection,foreclosure</td>\n",
       "      <td>Other mortgage</td>\n",
       "      <td>71832.0</td>\n",
       "      <td>Servicemember</td>\n",
       "      <td>2210501</td>\n",
       "      <td>Yes</td>\n",
       "      <td>N/A</td>\n",
       "      <td>Closed with explanation</td>\n",
       "      <td>Referral</td>\n",
       "      <td>HSBC NORTH AMERICA HOLDINGS INC.</td>\n",
       "      <td>2016-11-16T12:00:00-05:00</td>\n",
       "      <td>AR</td>\n",
       "      <td>No</td>\n",
       "      <td>None</td>\n",
       "      <td>None</td>\n",
       "    </tr>\n",
       "    <tr>\n",
       "      <th>2</th>\n",
       "      <td>Debt collection</td>\n",
       "      <td></td>\n",
       "      <td>2016-11-12T12:00:00-05:00</td>\n",
       "      <td>Cont'd attempts collect debt not owed</td>\n",
       "      <td>I do not know</td>\n",
       "      <td>30324.0</td>\n",
       "      <td>None</td>\n",
       "      <td>2195801</td>\n",
       "      <td>Yes</td>\n",
       "      <td>Consent not provided</td>\n",
       "      <td>Closed with explanation</td>\n",
       "      <td>Web</td>\n",
       "      <td>Avant Credit Corporation</td>\n",
       "      <td>2016-11-05T12:00:00-05:00</td>\n",
       "      <td>GA</td>\n",
       "      <td>No</td>\n",
       "      <td>None</td>\n",
       "      <td>Debt resulted from identity theft</td>\n",
       "    </tr>\n",
       "    <tr>\n",
       "      <th>3</th>\n",
       "      <td>Debt collection</td>\n",
       "      <td>I WENT THRU SMALL CLAIMS COURT IN XXXX AND SUE...</td>\n",
       "      <td>2016-11-18T12:00:00-05:00</td>\n",
       "      <td>Cont'd attempts collect debt not owed</td>\n",
       "      <td>Other (i.e. phone, health club, etc.)</td>\n",
       "      <td>94590.0</td>\n",
       "      <td>None</td>\n",
       "      <td>2214010</td>\n",
       "      <td>No</td>\n",
       "      <td>Consent provided</td>\n",
       "      <td>Closed</td>\n",
       "      <td>Web</td>\n",
       "      <td>Lazarus Financial Group, Inc.(Closed)</td>\n",
       "      <td>2016-11-17T12:00:00-05:00</td>\n",
       "      <td>CA</td>\n",
       "      <td>No</td>\n",
       "      <td>Company believes complaint is the result of an...</td>\n",
       "      <td>Debt is not mine</td>\n",
       "    </tr>\n",
       "    <tr>\n",
       "      <th>4</th>\n",
       "      <td>Mortgage</td>\n",
       "      <td>Wells Fargo Home Mortgage continues to collect...</td>\n",
       "      <td>2016-10-23T12:00:00-05:00</td>\n",
       "      <td>Loan servicing, payments, escrow account</td>\n",
       "      <td>VA mortgage</td>\n",
       "      <td>76504.0</td>\n",
       "      <td>Older American</td>\n",
       "      <td>2174131</td>\n",
       "      <td>Yes</td>\n",
       "      <td>Consent provided</td>\n",
       "      <td>Closed with explanation</td>\n",
       "      <td>Web</td>\n",
       "      <td>WELLS FARGO &amp; COMPANY</td>\n",
       "      <td>2016-10-23T12:00:00-05:00</td>\n",
       "      <td>TX</td>\n",
       "      <td>No</td>\n",
       "      <td>Company has responded to the consumer and the ...</td>\n",
       "      <td>None</td>\n",
       "    </tr>\n",
       "  </tbody>\n",
       "</table>\n",
       "</div>"
      ],
      "text/plain": [
       "                   product                            complaint_what_happened  \\\n",
       "0  Bank account or service  TRANSACTIONS, NONE. I did this XX/XX/XXXX afte...   \n",
       "1                 Mortgage                                                      \n",
       "2          Debt collection                                                      \n",
       "3          Debt collection  I WENT THRU SMALL CLAIMS COURT IN XXXX AND SUE...   \n",
       "4                 Mortgage  Wells Fargo Home Mortgage continues to collect...   \n",
       "\n",
       "        date_sent_to_company                                     issue  \\\n",
       "0  2016-11-14T12:00:00-05:00     Problems caused by my funds being low   \n",
       "1  2016-12-20T12:00:00-05:00  Loan modification,collection,foreclosure   \n",
       "2  2016-11-12T12:00:00-05:00     Cont'd attempts collect debt not owed   \n",
       "3  2016-11-18T12:00:00-05:00     Cont'd attempts collect debt not owed   \n",
       "4  2016-10-23T12:00:00-05:00  Loan servicing, payments, escrow account   \n",
       "\n",
       "                             sub_product  zip_code            tags  \\\n",
       "0                       Checking account   20011.0   Servicemember   \n",
       "1                         Other mortgage   71832.0   Servicemember   \n",
       "2                          I do not know   30324.0            None   \n",
       "3  Other (i.e. phone, health club, etc.)   94590.0            None   \n",
       "4                            VA mortgage   76504.0  Older American   \n",
       "\n",
       "   complaint_id timely consumer_consent_provided         company_response  \\\n",
       "0       2206373    Yes          Consent provided  Closed with explanation   \n",
       "1       2210501    Yes                       N/A  Closed with explanation   \n",
       "2       2195801    Yes      Consent not provided  Closed with explanation   \n",
       "3       2214010     No          Consent provided                   Closed   \n",
       "4       2174131    Yes          Consent provided  Closed with explanation   \n",
       "\n",
       "  submitted_via                                company  \\\n",
       "0           Web                   M&T BANK CORPORATION   \n",
       "1      Referral       HSBC NORTH AMERICA HOLDINGS INC.   \n",
       "2           Web               Avant Credit Corporation   \n",
       "3           Web  Lazarus Financial Group, Inc.(Closed)   \n",
       "4           Web                  WELLS FARGO & COMPANY   \n",
       "\n",
       "               date_received state consumer_disputed  \\\n",
       "0  2016-11-14T12:00:00-05:00    DC               Yes   \n",
       "1  2016-11-16T12:00:00-05:00    AR                No   \n",
       "2  2016-11-05T12:00:00-05:00    GA                No   \n",
       "3  2016-11-17T12:00:00-05:00    CA                No   \n",
       "4  2016-10-23T12:00:00-05:00    TX                No   \n",
       "\n",
       "                             company_public_response  \\\n",
       "0  Company has responded to the consumer and the ...   \n",
       "1                                               None   \n",
       "2                                               None   \n",
       "3  Company believes complaint is the result of an...   \n",
       "4  Company has responded to the consumer and the ...   \n",
       "\n",
       "                           sub_issue  \n",
       "0                               None  \n",
       "1                               None  \n",
       "2  Debt resulted from identity theft  \n",
       "3                   Debt is not mine  \n",
       "4                               None  "
      ]
     },
     "execution_count": 85,
     "metadata": {},
     "output_type": "execute_result"
    }
   ],
   "source": [
    "import pandas as pd\n",
    "\n",
    "df=pd.read_json(\"../filtered_data.json\")\n",
    "\n",
    "df.head()"
   ]
  },
  {
   "cell_type": "code",
   "execution_count": 86,
   "metadata": {},
   "outputs": [
    {
     "data": {
      "text/plain": [
       "(17591, 18)"
      ]
     },
     "execution_count": 86,
     "metadata": {},
     "output_type": "execute_result"
    }
   ],
   "source": [
    "df.shape"
   ]
  },
  {
   "cell_type": "code",
   "execution_count": 87,
   "metadata": {},
   "outputs": [],
   "source": [
    "\n",
    "from pyspark.sql import SparkSession\n",
    "from pyspark.sql.functions import col\n"
   ]
  },
  {
   "cell_type": "code",
   "execution_count": null,
   "metadata": {},
   "outputs": [],
   "source": [
    "# spark.sparkContext.stop()"
   ]
  },
  {
   "cell_type": "code",
   "execution_count": 88,
   "metadata": {},
   "outputs": [],
   "source": [
    "spark = SparkSession.builder.master('local[*]').appName('finance_complaint')\\\n",
    ".config(\"spark.executor.instances\", \"1\")\\\n",
    ".config(\"spark.executor.memory\", \"6g\")\\\n",
    ".config(\"spark.driver.memory\", \"6g\")\\\n",
    ".config(\"spark.executor.memoryOverhead\", \"8g\")\\\n",
    ".getOrCreate()"
   ]
  },
  {
   "cell_type": "code",
   "execution_count": 89,
   "metadata": {},
   "outputs": [],
   "source": [
    "sql = spark.sql"
   ]
  },
  {
   "cell_type": "code",
   "execution_count": 90,
   "metadata": {},
   "outputs": [
    {
     "data": {
      "text/plain": [
       "[('spark.app.startTime', '1669698904050'),\n",
       " ('spark.sql.warehouse.dir',\n",
       "  'file:/config/workspace/Notebook/spark-warehouse'),\n",
       " ('spark.driver.port', '36299'),\n",
       " ('spark.app.id', 'local-1669698905482'),\n",
       " ('spark.executor.id', 'driver'),\n",
       " ('spark.executor.memory', '6g'),\n",
       " ('spark.app.name', 'finance_complaint'),\n",
       " ('spark.executor.memoryOverhead', '8g'),\n",
       " ('spark.driver.memory', '6g'),\n",
       " ('spark.driver.host', 'c783cf6aa7ee'),\n",
       " ('spark.rdd.compress', 'True'),\n",
       " ('spark.serializer.objectStreamReset', '100'),\n",
       " ('spark.executor.instances', '1'),\n",
       " ('spark.master', 'local[*]'),\n",
       " ('spark.submit.pyFiles', ''),\n",
       " ('spark.submit.deployMode', 'client'),\n",
       " ('spark.ui.showConsoleProgress', 'true')]"
      ]
     },
     "execution_count": 90,
     "metadata": {},
     "output_type": "execute_result"
    }
   ],
   "source": [
    "spark.sparkContext._conf.getAll()"
   ]
  },
  {
   "cell_type": "code",
   "execution_count": 99,
   "metadata": {},
   "outputs": [],
   "source": [
    "df = spark.read.json(\"../filtered_data.json\")"
   ]
  },
  {
   "cell_type": "code",
   "execution_count": 100,
   "metadata": {},
   "outputs": [
    {
     "data": {
      "text/plain": [
       "17591"
      ]
     },
     "execution_count": 100,
     "metadata": {},
     "output_type": "execute_result"
    }
   ],
   "source": [
    "df.count()"
   ]
  },
  {
   "cell_type": "code",
   "execution_count": 101,
   "metadata": {},
   "outputs": [
    {
     "name": "stdout",
     "output_type": "stream",
     "text": [
      "+--------------------+-----------------------+--------------------+------------+-----------------------+-------------------------+-----------------+--------------------+--------------------+--------------------+--------------------+-----+--------------------+--------------------+-------------+--------------+------+--------+\n",
      "|             company|company_public_response|    company_response|complaint_id|complaint_what_happened|consumer_consent_provided|consumer_disputed|       date_received|date_sent_to_company|               issue|             product|state|           sub_issue|         sub_product|submitted_via|          tags|timely|zip_code|\n",
      "+--------------------+-----------------------+--------------------+------------+-----------------------+-------------------------+-----------------+--------------------+--------------------+--------------------+--------------------+-----+--------------------+--------------------+-------------+--------------+------+--------+\n",
      "|M&T BANK CORPORATION|   Company has respo...|Closed with expla...|     2206373|   TRANSACTIONS, NON...|         Consent provided|              Yes|2016-11-14T12:00:...|2016-11-14T12:00:...|Problems caused b...|Bank account or s...|   DC|                null|    Checking account|          Web| Servicemember|   Yes|   20011|\n",
      "|HSBC NORTH AMERIC...|                   null|Closed with expla...|     2210501|                       |                      N/A|               No|2016-11-16T12:00:...|2016-12-20T12:00:...|Loan modification...|            Mortgage|   AR|                null|      Other mortgage|     Referral| Servicemember|   Yes|   71832|\n",
      "|Avant Credit Corp...|                   null|Closed with expla...|     2195801|                       |     Consent not provided|               No|2016-11-05T12:00:...|2016-11-12T12:00:...|Cont'd attempts c...|     Debt collection|   GA|Debt resulted fro...|       I do not know|          Web|          null|   Yes|   30324|\n",
      "|Lazarus Financial...|   Company believes ...|              Closed|     2214010|   I WENT THRU SMALL...|         Consent provided|               No|2016-11-17T12:00:...|2016-11-18T12:00:...|Cont'd attempts c...|     Debt collection|   CA|    Debt is not mine|Other (i.e. phone...|          Web|          null|    No|   94590|\n",
      "|WELLS FARGO & COM...|   Company has respo...|Closed with expla...|     2174131|   Wells Fargo Home ...|         Consent provided|               No|2016-10-23T12:00:...|2016-10-23T12:00:...|Loan servicing, p...|            Mortgage|   TX|                null|         VA mortgage|          Web|Older American|   Yes|   76504|\n",
      "|TRANSUNION INTERM...|   Company has respo...|Closed with non-m...|     2188140|   Good Morning, Att...|         Consent provided|              Yes|2016-10-31T12:00:...|2016-10-31T12:00:...|Credit reporting ...|    Credit reporting|   TX|No notice of inve...|                null|          Web|          null|   Yes|   76106|\n",
      "|CAPITAL ONE FINAN...|                   null|Closed with expla...|     2205442|   I was never late ...|         Consent provided|               No|2016-11-11T12:00:...|2016-11-16T12:00:...|               Other|         Credit card|   IN|                null|                null|          Web|          null|   Yes|   46217|\n",
      "|      CITIBANK, N.A.|   Company has respo...|Closed with non-m...|     2179468|   In XXXX 2016, I o...|         Consent provided|               No|2016-10-26T12:00:...|2016-10-26T12:00:...|Account opening, ...|Bank account or s...|   CA|                null|    Checking account|          Web|          null|   Yes|   90815|\n",
      "|ENCORE CAPITAL GR...|                   null|Closed with non-m...|     2202451|   see attached disp...|         Consent provided|               No|2016-11-09T12:00:...|2016-11-10T12:00:...|Disclosure verifi...|     Debt collection|   NY|Not given enough ...|         Credit card|          Web|          null|   Yes|   11378|\n",
      "|Bread Financial H...|                   null|Closed with expla...|     2173649|                       |     Consent not provided|               No|2016-10-23T12:00:...|2017-01-06T12:00:...|    Billing disputes|         Credit card|   TX|                null|                null|          Web|Older American|   Yes|   75009|\n",
      "|       FC HoldCo LLC|   Company has respo...|Closed with expla...|     2189614|   Ive asked numerou...|         Consent provided|               No|2016-11-01T12:00:...|2016-11-14T12:00:...|Cont'd attempts c...|     Debt collection|   GA|Debt resulted fro...|                Auto|          Web|          null|   Yes|   30349|\n",
      "|Dominion Law Asso...|                   null|Closed with non-m...|     2214594|   I never received ...|         Consent provided|               No|2016-11-17T12:00:...|2016-11-17T12:00:...|Communication tac...|     Debt collection|   VA|Threatened to tak...|             Medical|          Web|          null|   Yes|   23325|\n",
      "|WELLS FARGO & COM...|   Company has respo...|Closed with non-m...|     2206604|                       |                      N/A|               No|2016-11-14T12:00:...|2016-11-15T12:00:...|Loan servicing, p...|            Mortgage|   FL|                null|      Other mortgage|     Referral|          null|   Yes|   34243|\n",
      "|Ocwen Financial C...|                   null|Closed with expla...|     2195107|   We are homeowner ...|         Consent provided|               No|2016-11-05T12:00:...|2016-11-05T12:00:...|Loan servicing, p...|            Mortgage|   FL|                null|Conventional adju...|          Web|          null|   Yes|   33813|\n",
      "|Specialized Loan ...|   Company has respo...|Closed with expla...|     2191582|   I submitted a cla...|         Consent provided|               No|2016-11-02T12:00:...|2016-11-02T12:00:...|Loan servicing, p...|            Mortgage|   ID|                null|      Other mortgage|          Web| Servicemember|   Yes|   83316|\n",
      "|Firstsource Busin...|   Company believes ...|Closed with expla...|     2202626|                       |     Consent not provided|               No|2016-11-09T12:00:...|2016-11-27T12:00:...|Cont'd attempts c...|     Debt collection|   WI|    Debt is not mine|             Medical|          Web|          null|   Yes|   54703|\n",
      "|ACS Education Ser...|                   null|Closed with expla...|     2208562|   Hello, I original...|         Consent provided|              Yes|2016-11-15T12:00:...|2016-11-15T12:00:...| Can't repay my loan|        Student loan|   IL|Can't temporarily...|Federal student l...|          Web|          null|   Yes|   60139|\n",
      "|  Solidus Group LLC.|                   null|   Untimely response|     2190345|                       |                      N/A|               No|2016-11-02T12:00:...|2016-12-09T12:00:...|Cont'd attempts c...|     Debt collection|   TN|    Debt is not mine|         Payday loan|        Phone|          null|    No|   37090|\n",
      "|SUNTRUST BANKS, INC.|   Company has respo...|Closed with expla...|     2188653|                       |                      N/A|               No|2016-11-01T12:00:...|2016-11-01T12:00:...|Loan servicing, p...|            Mortgage|   GA|                null|        FHA mortgage|        Phone|          null|   Yes|   30339|\n",
      "|      CITIBANK, N.A.|   Company has respo...|Closed with expla...|     2203640|   XXXX XXXX, XXXX, ...|         Consent provided|              Yes|2016-11-10T12:00:...|2016-11-10T12:00:...|Taking/threatenin...|     Debt collection|   GA|Sued where didn't...|         Credit card|          Web|          null|   Yes|   30281|\n",
      "+--------------------+-----------------------+--------------------+------------+-----------------------+-------------------------+-----------------+--------------------+--------------------+--------------------+--------------------+-----+--------------------+--------------------+-------------+--------------+------+--------+\n",
      "only showing top 20 rows\n",
      "\n"
     ]
    }
   ],
   "source": [
    "df.show()"
   ]
  },
  {
   "cell_type": "code",
   "execution_count": 102,
   "metadata": {},
   "outputs": [],
   "source": [
    "df.write.mode('append').parquet(\"../complaint_data\")"
   ]
  },
  {
   "cell_type": "code",
   "execution_count": 103,
   "metadata": {},
   "outputs": [],
   "source": [
    "df=spark.read.parquet(\"../complaint_data\")"
   ]
  },
  {
   "cell_type": "code",
   "execution_count": 104,
   "metadata": {},
   "outputs": [
    {
     "data": {
      "text/plain": [
       "17591"
      ]
     },
     "execution_count": 104,
     "metadata": {},
     "output_type": "execute_result"
    }
   ],
   "source": [
    "df.count()"
   ]
  },
  {
   "cell_type": "code",
   "execution_count": 105,
   "metadata": {},
   "outputs": [
    {
     "name": "stdout",
     "output_type": "stream",
     "text": [
      "root\n",
      " |-- company: string (nullable = true)\n",
      " |-- company_public_response: string (nullable = true)\n",
      " |-- company_response: string (nullable = true)\n",
      " |-- complaint_id: string (nullable = true)\n",
      " |-- complaint_what_happened: string (nullable = true)\n",
      " |-- consumer_consent_provided: string (nullable = true)\n",
      " |-- consumer_disputed: string (nullable = true)\n",
      " |-- date_received: string (nullable = true)\n",
      " |-- date_sent_to_company: string (nullable = true)\n",
      " |-- issue: string (nullable = true)\n",
      " |-- product: string (nullable = true)\n",
      " |-- state: string (nullable = true)\n",
      " |-- sub_issue: string (nullable = true)\n",
      " |-- sub_product: string (nullable = true)\n",
      " |-- submitted_via: string (nullable = true)\n",
      " |-- tags: string (nullable = true)\n",
      " |-- timely: string (nullable = true)\n",
      " |-- zip_code: string (nullable = true)\n",
      "\n"
     ]
    }
   ],
   "source": [
    "df.printSchema()"
   ]
  },
  {
   "cell_type": "code",
   "execution_count": 11,
   "metadata": {},
   "outputs": [],
   "source": []
  },
  {
   "cell_type": "code",
   "execution_count": 106,
   "metadata": {},
   "outputs": [
    {
     "data": {
      "text/plain": [
       "DataFrame[complaint_id: string]"
      ]
     },
     "execution_count": 106,
     "metadata": {},
     "output_type": "execute_result"
    }
   ],
   "source": [
    "df.select('complaint_id')"
   ]
  },
  {
   "cell_type": "code",
   "execution_count": 107,
   "metadata": {},
   "outputs": [
    {
     "name": "stdout",
     "output_type": "stream",
     "text": [
      "company:1256\n",
      "company_public_response:9\n",
      "company_response:5\n",
      "complaint_id:17591\n",
      "complaint_what_happened:7020\n",
      "consumer_consent_provided:5\n",
      "consumer_disputed:2\n",
      "date_received:33\n",
      "date_sent_to_company:114\n",
      "issue:86\n",
      "product:12\n",
      "state:58\n",
      "sub_issue:58\n",
      "sub_product:45\n",
      "submitted_via:6\n",
      "tags:4\n",
      "timely:2\n",
      "zip_code:7239\n"
     ]
    }
   ],
   "source": [
    "## print unique values\n",
    "\n",
    "for column in df.columns:\n",
    "    print(f\"{column}:{df.select(column).distinct().count()}\")"
   ]
  },
  {
   "cell_type": "code",
   "execution_count": 108,
   "metadata": {},
   "outputs": [
    {
     "name": "stdout",
     "output_type": "stream",
     "text": [
      "+-------+------+\n",
      "|summary|timely|\n",
      "+-------+------+\n",
      "|  count| 17591|\n",
      "|   mean|  null|\n",
      "| stddev|  null|\n",
      "|    min|    No|\n",
      "|    max|   Yes|\n",
      "+-------+------+\n",
      "\n"
     ]
    }
   ],
   "source": [
    "df.describe([\"timely\"]).show()"
   ]
  },
  {
   "cell_type": "code",
   "execution_count": 109,
   "metadata": {},
   "outputs": [
    {
     "name": "stdout",
     "output_type": "stream",
     "text": [
      "+-------+--------------------+\n",
      "|summary|             company|\n",
      "+-------+--------------------+\n",
      "|  count|               17591|\n",
      "|   mean|                null|\n",
      "| stddev|                null|\n",
      "|    min|1 STOP MONEY CENT...|\n",
      "|    max|iFreedom Direct C...|\n",
      "+-------+--------------------+\n",
      "\n",
      "+-------+-----------------------+\n",
      "|summary|company_public_response|\n",
      "+-------+-----------------------+\n",
      "|  count|                   9178|\n",
      "|   mean|                   null|\n",
      "| stddev|                   null|\n",
      "|    min|   Company believes ...|\n",
      "|    max|   Company has respo...|\n",
      "+-------+-----------------------+\n",
      "\n",
      "+-------+-----------------+\n",
      "|summary| company_response|\n",
      "+-------+-----------------+\n",
      "|  count|            17591|\n",
      "|   mean|             null|\n",
      "| stddev|             null|\n",
      "|    min|           Closed|\n",
      "|    max|Untimely response|\n",
      "+-------+-----------------+\n",
      "\n",
      "+-------+------------------+\n",
      "|summary|      complaint_id|\n",
      "+-------+------------------+\n",
      "|  count|             17591|\n",
      "|   mean|  2198419.29844807|\n",
      "| stddev|13938.714230139409|\n",
      "|    min|           2173608|\n",
      "|    max|           2222887|\n",
      "+-------+------------------+\n",
      "\n",
      "+-------+-----------------------+\n",
      "|summary|complaint_what_happened|\n",
      "+-------+-----------------------+\n",
      "|  count|                  17591|\n",
      "|   mean|                   null|\n",
      "| stddev|                   null|\n",
      "|    min|                       |\n",
      "|    max|   with the EVIDENCE...|\n",
      "+-------+-----------------------+\n",
      "\n",
      "+-------+-------------------------+\n",
      "|summary|consumer_consent_provided|\n",
      "+-------+-------------------------+\n",
      "|  count|                    17590|\n",
      "|   mean|                     null|\n",
      "| stddev|                     null|\n",
      "|    min|     Consent not provided|\n",
      "|    max|                    Other|\n",
      "+-------+-------------------------+\n",
      "\n",
      "+-------+-----------------+\n",
      "|summary|consumer_disputed|\n",
      "+-------+-----------------+\n",
      "|  count|            17591|\n",
      "|   mean|             null|\n",
      "| stddev|             null|\n",
      "|    min|               No|\n",
      "|    max|              Yes|\n",
      "+-------+-----------------+\n",
      "\n",
      "+-------+--------------------+\n",
      "|summary|       date_received|\n",
      "+-------+--------------------+\n",
      "|  count|               17591|\n",
      "|   mean|                null|\n",
      "| stddev|                null|\n",
      "|    min|2016-10-23T12:00:...|\n",
      "|    max|2016-11-24T12:00:...|\n",
      "+-------+--------------------+\n",
      "\n",
      "+-------+--------------------+\n",
      "|summary|date_sent_to_company|\n",
      "+-------+--------------------+\n",
      "|  count|               17591|\n",
      "|   mean|                null|\n",
      "| stddev|                null|\n",
      "|    min|2016-10-23T12:00:...|\n",
      "|    max|2017-12-21T12:00:...|\n",
      "+-------+--------------------+\n",
      "\n",
      "+-------+--------------------+\n",
      "|summary|               issue|\n",
      "+-------+--------------------+\n",
      "|  count|               17591|\n",
      "|   mean|                null|\n",
      "| stddev|                null|\n",
      "|    min|APR or interest rate|\n",
      "|    max|Wrong amount char...|\n",
      "+-------+--------------------+\n",
      "\n",
      "+-------+--------------------+\n",
      "|summary|             product|\n",
      "+-------+--------------------+\n",
      "|  count|               17591|\n",
      "|   mean|                null|\n",
      "| stddev|                null|\n",
      "|    min|Bank account or s...|\n",
      "|    max|    Virtual currency|\n",
      "+-------+--------------------+\n",
      "\n",
      "+-------+-----+\n",
      "|summary|state|\n",
      "+-------+-----+\n",
      "|  count|17472|\n",
      "|   mean| null|\n",
      "| stddev| null|\n",
      "|    min|   AE|\n",
      "|    max|   WY|\n",
      "+-------+-----+\n",
      "\n",
      "+-------+--------------------+\n",
      "|summary|           sub_issue|\n",
      "+-------+--------------------+\n",
      "|  count|                8492|\n",
      "|   mean|                null|\n",
      "| stddev|                null|\n",
      "|    min|      Account status|\n",
      "|    max|Used obscene/prof...|\n",
      "+-------+--------------------+\n",
      "\n",
      "+-------+--------------------+\n",
      "|summary|         sub_product|\n",
      "+-------+--------------------+\n",
      "|  count|               11472|\n",
      "|   mean|                null|\n",
      "| stddev|                null|\n",
      "|    min|(CD) Certificate ...|\n",
      "|    max|        Vehicle loan|\n",
      "+-------+--------------------+\n",
      "\n",
      "+-------+-------------+\n",
      "|summary|submitted_via|\n",
      "+-------+-------------+\n",
      "|  count|        17591|\n",
      "|   mean|         null|\n",
      "| stddev|         null|\n",
      "|    min|        Email|\n",
      "|    max|          Web|\n",
      "+-------+-------------+\n",
      "\n",
      "+-------+--------------+\n",
      "|summary|          tags|\n",
      "+-------+--------------+\n",
      "|  count|          2642|\n",
      "|   mean|          null|\n",
      "| stddev|          null|\n",
      "|    min|Older American|\n",
      "|    max| Servicemember|\n",
      "+-------+--------------+\n",
      "\n",
      "+-------+------+\n",
      "|summary|timely|\n",
      "+-------+------+\n",
      "|  count| 17591|\n",
      "|   mean|  null|\n",
      "| stddev|  null|\n",
      "|    min|    No|\n",
      "|    max|   Yes|\n",
      "+-------+------+\n",
      "\n",
      "+-------+------------------+\n",
      "|summary|          zip_code|\n",
      "+-------+------------------+\n",
      "|  count|             17473|\n",
      "|   mean| 50406.13374921307|\n",
      "| stddev|30902.467639490136|\n",
      "|    min|             00612|\n",
      "|    max|             99802|\n",
      "+-------+------------------+\n",
      "\n"
     ]
    }
   ],
   "source": [
    "for col in df.columns:\n",
    "    df.describe([col]).show()"
   ]
  },
  {
   "cell_type": "code",
   "execution_count": 110,
   "metadata": {},
   "outputs": [
    {
     "name": "stdout",
     "output_type": "stream",
     "text": [
      "company 0\n",
      "company_public_response 8413\n",
      "company_response 0\n",
      "complaint_id 0\n",
      "complaint_what_happened 0\n",
      "consumer_consent_provided 1\n",
      "consumer_disputed 0\n",
      "date_received 0\n",
      "date_sent_to_company 0\n",
      "issue 0\n",
      "product 0\n",
      "state 119\n",
      "sub_issue 9099\n",
      "sub_product 6119\n",
      "submitted_via 0\n",
      "tags 14949\n",
      "timely 0\n",
      "zip_code 118\n"
     ]
    }
   ],
   "source": [
    "for col in df.columns:\n",
    "    print(col,  df.filter(df[col].isNull()).count())"
   ]
  },
  {
   "cell_type": "code",
   "execution_count": 53,
   "metadata": {},
   "outputs": [
    {
     "name": "stdout",
     "output_type": "stream",
     "text": [
      "+--------------------+-----+\n",
      "|    company_response|count|\n",
      "+--------------------+-----+\n",
      "|   Untimely response|   94|\n",
      "|Closed with non-m...| 3845|\n",
      "|         In progress|48984|\n",
      "|Closed with monet...|  450|\n",
      "|Closed with expla...|18373|\n",
      "+--------------------+-----+\n",
      "\n",
      "+-------------------------+-----+\n",
      "|consumer_consent_provided|count|\n",
      "+-------------------------+-----+\n",
      "|                     null|59287|\n",
      "|        Consent withdrawn|  186|\n",
      "|                    Other| 2850|\n",
      "|         Consent provided| 3206|\n",
      "|     Consent not provided| 4079|\n",
      "|                      N/A| 2138|\n",
      "+-------------------------+-----+\n",
      "\n",
      "+-----------------+-----+\n",
      "|consumer_disputed|count|\n",
      "+-----------------+-----+\n",
      "|              N/A|71746|\n",
      "+-----------------+-----+\n",
      "\n",
      "+--------------------+-----+\n",
      "|             product|count|\n",
      "+--------------------+-----+\n",
      "|     Debt collection| 3272|\n",
      "|Money transfer, v...|  815|\n",
      "|Checking or savin...| 2235|\n",
      "|            Mortgage| 1104|\n",
      "|Credit card or pr...| 2464|\n",
      "|Credit reporting,...|60332|\n",
      "|Vehicle loan or l...|  591|\n",
      "|        Student loan|  614|\n",
      "|Payday loan, titl...|  319|\n",
      "+--------------------+-----+\n",
      "\n",
      "+-------------+-----+\n",
      "|submitted_via|count|\n",
      "+-------------+-----+\n",
      "|        Phone| 1202|\n",
      "| Web Referral|   51|\n",
      "|     Referral|  559|\n",
      "|  Postal mail|  377|\n",
      "|          Web|69557|\n",
      "+-------------+-----+\n",
      "\n",
      "+------+-----+\n",
      "|timely|count|\n",
      "+------+-----+\n",
      "|    No|  172|\n",
      "|   Yes|71574|\n",
      "+------+-----+\n",
      "\n"
     ]
    }
   ],
   "source": [
    "df.groupBy(df.company_response).count().show()\n",
    "df.groupBy(df.consumer_consent_provided).count().show()\n",
    "df.groupBy(df.consumer_disputed).count().show()\n",
    "df.groupBy(df.product).count().show()\n",
    "df.groupBy(df.submitted_via).count().show()\n",
    "df.groupBy(df.timely).count().show()"
   ]
  },
  {
   "cell_type": "code",
   "execution_count": 111,
   "metadata": {},
   "outputs": [
    {
     "data": {
      "text/plain": [
       "[Row(product='Debt collection', count=3804),\n",
       " Row(product='Virtual currency', count=1),\n",
       " Row(product='Payday loan', count=153),\n",
       " Row(product='Money transfers', count=149),\n",
       " Row(product='Mortgage', count=3631),\n",
       " Row(product='Prepaid card', count=94),\n",
       " Row(product='Credit reporting', count=3941),\n",
       " Row(product='Consumer Loan', count=897),\n",
       " Row(product='Credit card', count=2025),\n",
       " Row(product='Bank account or service', count=2099),\n",
       " Row(product='Other financial service', count=50),\n",
       " Row(product='Student loan', count=747)]"
      ]
     },
     "execution_count": 111,
     "metadata": {},
     "output_type": "execute_result"
    }
   ],
   "source": [
    "df.groupBy(df.product).count().collect()"
   ]
  },
  {
   "cell_type": "code",
   "execution_count": 112,
   "metadata": {},
   "outputs": [
    {
     "data": {
      "text/plain": [
       "Column<'company_response'>"
      ]
     },
     "execution_count": 112,
     "metadata": {},
     "output_type": "execute_result"
    }
   ],
   "source": [
    "df.company_response"
   ]
  },
  {
   "cell_type": "code",
   "execution_count": 113,
   "metadata": {},
   "outputs": [],
   "source": [
    "def update_column_attribute(df):\n",
    "    for column in df.columns:\n",
    "        setattr(df,column,column)"
   ]
  },
  {
   "cell_type": "code",
   "execution_count": 114,
   "metadata": {},
   "outputs": [],
   "source": [
    "update_column_attribute(df)"
   ]
  },
  {
   "cell_type": "code",
   "execution_count": 115,
   "metadata": {},
   "outputs": [
    {
     "data": {
      "text/plain": [
       "'company_response'"
      ]
     },
     "execution_count": 115,
     "metadata": {},
     "output_type": "execute_result"
    }
   ],
   "source": [
    "df.company_response"
   ]
  },
  {
   "cell_type": "code",
   "execution_count": 116,
   "metadata": {},
   "outputs": [
    {
     "data": {
      "text/plain": [
       "17591"
      ]
     },
     "execution_count": 116,
     "metadata": {},
     "output_type": "execute_result"
    }
   ],
   "source": [
    "df.count()"
   ]
  },
  {
   "cell_type": "code",
   "execution_count": 117,
   "metadata": {},
   "outputs": [],
   "source": [
    "complaint_table=\"complaint\"\n",
    "df.createOrReplaceTempView(complaint_table)"
   ]
  },
  {
   "cell_type": "code",
   "execution_count": null,
   "metadata": {},
   "outputs": [],
   "source": []
  },
  {
   "cell_type": "code",
   "execution_count": 118,
   "metadata": {},
   "outputs": [],
   "source": [
    "missing_target_df = sql(f\"select * from {complaint_table} where {df.consumer_disputed} ='N/A' \")"
   ]
  },
  {
   "cell_type": "code",
   "execution_count": 119,
   "metadata": {},
   "outputs": [],
   "source": [
    "df = sql(f\"select * from {complaint_table} where {df.consumer_disputed} <>'N/A' \")"
   ]
  },
  {
   "cell_type": "code",
   "execution_count": 120,
   "metadata": {},
   "outputs": [
    {
     "data": {
      "text/plain": [
       "17591"
      ]
     },
     "execution_count": 120,
     "metadata": {},
     "output_type": "execute_result"
    }
   ],
   "source": [
    "df.count()"
   ]
  },
  {
   "cell_type": "code",
   "execution_count": 121,
   "metadata": {},
   "outputs": [],
   "source": [
    "complaint_table=\"complaint2\"\n",
    "df.createOrReplaceTempView(complaint_table)"
   ]
  },
  {
   "cell_type": "code",
   "execution_count": 122,
   "metadata": {},
   "outputs": [],
   "source": [
    "update_column_attribute(df)"
   ]
  },
  {
   "cell_type": "code",
   "execution_count": 123,
   "metadata": {},
   "outputs": [],
   "source": [
    "def perform_null_analysis(df,table_name):\n",
    "    null_value_analysis=[]\n",
    "    n_row=df.count()\n",
    "    for column in df.columns:\n",
    "        print(column)\n",
    "        response = sql(f\"select {n_row} as  total_row,count(*) as null_row_{column},(count(*)*100)/{n_row} as missing_percentage,'{column}' as  column_name from {table_name} where {column} is null\").collect()\n",
    "        null_value_analysis.append(response)\n",
    "    return null_value_analysis"
   ]
  },
  {
   "cell_type": "code",
   "execution_count": 124,
   "metadata": {},
   "outputs": [
    {
     "name": "stdout",
     "output_type": "stream",
     "text": [
      "company\n",
      "company_public_response\n",
      "company_response\n",
      "complaint_id\n",
      "complaint_what_happened\n",
      "consumer_consent_provided\n",
      "consumer_disputed\n",
      "date_received\n",
      "date_sent_to_company\n",
      "issue\n",
      "product\n",
      "state\n",
      "sub_issue\n",
      "sub_product\n",
      "submitted_via\n",
      "tags\n",
      "timely\n",
      "zip_code\n"
     ]
    }
   ],
   "source": [
    "null_report = perform_null_analysis(df,complaint_table)"
   ]
  },
  {
   "cell_type": "code",
   "execution_count": 125,
   "metadata": {},
   "outputs": [
    {
     "data": {
      "text/plain": [
       "[[Row(total_row=17591, null_row_company=0, missing_percentage=0.0, column_name='company')],\n",
       " [Row(total_row=17591, null_row_company_public_response=8413, missing_percentage=47.82559263259621, column_name='company_public_response')],\n",
       " [Row(total_row=17591, null_row_company_response=0, missing_percentage=0.0, column_name='company_response')],\n",
       " [Row(total_row=17591, null_row_complaint_id=0, missing_percentage=0.0, column_name='complaint_id')],\n",
       " [Row(total_row=17591, null_row_complaint_what_happened=0, missing_percentage=0.0, column_name='complaint_what_happened')],\n",
       " [Row(total_row=17591, null_row_consumer_consent_provided=1, missing_percentage=0.00568472514353931, column_name='consumer_consent_provided')],\n",
       " [Row(total_row=17591, null_row_consumer_disputed=0, missing_percentage=0.0, column_name='consumer_disputed')],\n",
       " [Row(total_row=17591, null_row_date_received=0, missing_percentage=0.0, column_name='date_received')],\n",
       " [Row(total_row=17591, null_row_date_sent_to_company=0, missing_percentage=0.0, column_name='date_sent_to_company')],\n",
       " [Row(total_row=17591, null_row_issue=0, missing_percentage=0.0, column_name='issue')],\n",
       " [Row(total_row=17591, null_row_product=0, missing_percentage=0.0, column_name='product')],\n",
       " [Row(total_row=17591, null_row_state=119, missing_percentage=0.6764822920811778, column_name='state')],\n",
       " [Row(total_row=17591, null_row_sub_issue=9099, missing_percentage=51.725314081064184, column_name='sub_issue')],\n",
       " [Row(total_row=17591, null_row_sub_product=6119, missing_percentage=34.78483315331704, column_name='sub_product')],\n",
       " [Row(total_row=17591, null_row_submitted_via=0, missing_percentage=0.0, column_name='submitted_via')],\n",
       " [Row(total_row=17591, null_row_tags=14949, missing_percentage=84.98095617076915, column_name='tags')],\n",
       " [Row(total_row=17591, null_row_timely=0, missing_percentage=0.0, column_name='timely')],\n",
       " [Row(total_row=17591, null_row_zip_code=118, missing_percentage=0.6707975669376386, column_name='zip_code')]]"
      ]
     },
     "execution_count": 125,
     "metadata": {},
     "output_type": "execute_result"
    }
   ],
   "source": [
    "null_report"
   ]
  },
  {
   "cell_type": "code",
   "execution_count": 126,
   "metadata": {},
   "outputs": [],
   "source": [
    "def unwanted_column_by_missing_percentage(null_value_analysis,per_thres=20):\n",
    "    columns= []\n",
    "    for row in null_value_analysis:\n",
    "        row_info=row[0]\n",
    "        if row_info.missing_percentage>per_thres:\n",
    "            print(row_info)\n",
    "            columns.append(row_info.column_name)\n",
    "\n",
    "    return columns\n"
   ]
  },
  {
   "cell_type": "code",
   "execution_count": 127,
   "metadata": {},
   "outputs": [
    {
     "name": "stdout",
     "output_type": "stream",
     "text": [
      "Row(total_row=17591, null_row_company_public_response=8413, missing_percentage=47.82559263259621, column_name='company_public_response')\n",
      "Row(total_row=17591, null_row_sub_issue=9099, missing_percentage=51.725314081064184, column_name='sub_issue')\n",
      "Row(total_row=17591, null_row_sub_product=6119, missing_percentage=34.78483315331704, column_name='sub_product')\n",
      "Row(total_row=17591, null_row_tags=14949, missing_percentage=84.98095617076915, column_name='tags')\n"
     ]
    }
   ],
   "source": [
    "columns = unwanted_column_by_missing_percentage(null_value_analysis=null_report)"
   ]
  },
  {
   "cell_type": "code",
   "execution_count": 128,
   "metadata": {},
   "outputs": [],
   "source": [
    "def drop_column(df,columns):\n",
    "    selected_column = list(filter(lambda x:x not in columns,df.columns))\n",
    "    selected_column = \",\".join(selected_column)\n",
    "    df= sql(f\"select {selected_column}  from {complaint_table} \")\n",
    "    return df"
   ]
  },
  {
   "cell_type": "code",
   "execution_count": 129,
   "metadata": {},
   "outputs": [],
   "source": [
    "df=drop_column(df,columns)"
   ]
  },
  {
   "cell_type": "code",
   "execution_count": 130,
   "metadata": {},
   "outputs": [
    {
     "name": "stdout",
     "output_type": "stream",
     "text": [
      "company\n",
      "company_response\n",
      "complaint_id\n",
      "complaint_what_happened\n",
      "consumer_consent_provided\n",
      "consumer_disputed\n",
      "date_received\n",
      "date_sent_to_company\n",
      "issue\n",
      "product\n",
      "state\n",
      "submitted_via\n",
      "timely\n",
      "zip_code\n"
     ]
    }
   ],
   "source": [
    "columns = perform_null_analysis(df,complaint_table)"
   ]
  },
  {
   "cell_type": "code",
   "execution_count": 131,
   "metadata": {},
   "outputs": [
    {
     "data": {
      "text/plain": [
       "[]"
      ]
     },
     "execution_count": 131,
     "metadata": {},
     "output_type": "execute_result"
    }
   ],
   "source": [
    "unwanted_column_by_missing_percentage(columns)"
   ]
  },
  {
   "cell_type": "code",
   "execution_count": 134,
   "metadata": {},
   "outputs": [],
   "source": [
    "update_column_attribute(df)"
   ]
  },
  {
   "cell_type": "code",
   "execution_count": 135,
   "metadata": {},
   "outputs": [],
   "source": [
    "df=drop_column(df,columns=[df.complaint_id])"
   ]
  },
  {
   "cell_type": "code",
   "execution_count": 170,
   "metadata": {},
   "outputs": [],
   "source": [
    "update_column_attribute(df)"
   ]
  },
  {
   "cell_type": "code",
   "execution_count": 139,
   "metadata": {},
   "outputs": [],
   "source": [
    "ONE_HOT_FEATURE = [df.company_response,df.consumer_consent_provided,df.submitted_via,df.timely]\n",
    "BINARY_ENCODING = [df.product,]\n",
    "TARGET_FEATURE = [df.consumer_disputed]\n",
    "\n",
    "#df.company_response No null value\n",
    "#df.consumer_consent_provided  replace null with top category \n",
    "#df.consumer_disputed target feature label encoding\n",
    "#df.product one hot encoding \n",
    "\n",
    "#df.product no null value"
   ]
  },
  {
   "cell_type": "code",
   "execution_count": 140,
   "metadata": {},
   "outputs": [
    {
     "name": "stdout",
     "output_type": "stream",
     "text": [
      "company_response\n",
      "consumer_consent_provided\n",
      "submitted_via\n",
      "timely\n"
     ]
    }
   ],
   "source": [
    "for i in ONE_HOT_FEATURE:\n",
    "    print(i)"
   ]
  },
  {
   "cell_type": "code",
   "execution_count": 141,
   "metadata": {},
   "outputs": [],
   "source": [
    "remaining_column = list(filter(lambda x: x not in ONE_HOT_FEATURE+BINARY_ENCODING+TARGET_FEATURE,df.columns))"
   ]
  },
  {
   "cell_type": "code",
   "execution_count": 142,
   "metadata": {},
   "outputs": [
    {
     "data": {
      "text/plain": [
       "['company',\n",
       " 'complaint_what_happened',\n",
       " 'date_received',\n",
       " 'date_sent_to_company',\n",
       " 'issue',\n",
       " 'state',\n",
       " 'zip_code']"
      ]
     },
     "execution_count": 142,
     "metadata": {},
     "output_type": "execute_result"
    }
   ],
   "source": [
    "remaining_column"
   ]
  },
  {
   "cell_type": "code",
   "execution_count": 143,
   "metadata": {},
   "outputs": [
    {
     "data": {
      "text/plain": [
       "1256"
      ]
     },
     "execution_count": 143,
     "metadata": {},
     "output_type": "execute_result"
    }
   ],
   "source": [
    "df.groupBy(df.company).count().count()"
   ]
  },
  {
   "cell_type": "code",
   "execution_count": 144,
   "metadata": {},
   "outputs": [],
   "source": [
    "FREQUENCY_ENCODING = [df.company]"
   ]
  },
  {
   "cell_type": "code",
   "execution_count": 145,
   "metadata": {},
   "outputs": [
    {
     "data": {
      "text/plain": [
       "0"
      ]
     },
     "execution_count": 145,
     "metadata": {},
     "output_type": "execute_result"
    }
   ],
   "source": [
    "df.select(df.company).count()-df.select(df.company).dropna().count()"
   ]
  },
  {
   "cell_type": "code",
   "execution_count": 146,
   "metadata": {},
   "outputs": [],
   "source": [
    "REPLACE_NULL_WITH_TOP_VALUE = [df.zip_code,df.state,df.consumer_consent_provided]"
   ]
  },
  {
   "cell_type": "code",
   "execution_count": 147,
   "metadata": {},
   "outputs": [
    {
     "data": {
      "text/plain": [
       "['zip_code', 'state', 'consumer_consent_provided']"
      ]
     },
     "execution_count": 147,
     "metadata": {},
     "output_type": "execute_result"
    }
   ],
   "source": [
    "REPLACE_NULL_WITH_TOP_VALUE"
   ]
  },
  {
   "cell_type": "code",
   "execution_count": 148,
   "metadata": {},
   "outputs": [
    {
     "name": "stdout",
     "output_type": "stream",
     "text": [
      "Total number of row: 17591\n",
      "company:  1256\n",
      "complaint_what_happened:  7020\n",
      "date_received:  33\n",
      "date_sent_to_company:  114\n",
      "issue:  86\n",
      "state:  58\n",
      "zip_code:  7239\n"
     ]
    }
   ],
   "source": [
    "print(f\"Total number of row: {df.count()}\")\n",
    "for column in remaining_column:\n",
    "    print(f\"{column}:  {df.select(column).distinct().count()}\")"
   ]
  },
  {
   "cell_type": "code",
   "execution_count": 149,
   "metadata": {},
   "outputs": [
    {
     "name": "stdout",
     "output_type": "stream",
     "text": [
      "+--------------------+-----+\n",
      "|               issue|count|\n",
      "+--------------------+-----+\n",
      "|Communication tac...|  434|\n",
      "|Application proce...|   18|\n",
      "|Advertising and m...|   70|\n",
      "|Balance transfer fee|    6|\n",
      "|Customer service/...|   15|\n",
      "|        Adding money|    3|\n",
      "|Credit card prote...|   60|\n",
      "|Closing/Cancellin...|  150|\n",
      "|Received a loan I...|   14|\n",
      "|          Bankruptcy|   12|\n",
      "|                Fees|    3|\n",
      "|Can't stop charge...|   17|\n",
      "|Forbearance / Wor...|    8|\n",
      "|Credit determination|   61|\n",
      "|Loan modification...| 1330|\n",
      "|    Cash advance fee|    6|\n",
      "|Other transaction...|   49|\n",
      "|Customer service ...|   71|\n",
      "|      Getting a loan|   11|\n",
      "|  Delinquent account|   72|\n",
      "+--------------------+-----+\n",
      "only showing top 20 rows\n",
      "\n"
     ]
    }
   ],
   "source": [
    "df.groupBy(df.issue).count().show()"
   ]
  },
  {
   "cell_type": "code",
   "execution_count": 150,
   "metadata": {},
   "outputs": [
    {
     "data": {
      "text/plain": [
       "[Row(complaint_what_happened=\"TRANSACTIONS, NONE. I did this XX/XX/XXXX after M & T bank beat me for {$80.00} on a technicality. Despite having definitively placing my account in a no overdraft protection status. M & T has once again paid something on my account and are attempting to justify charging me nsf fees for the overdraft by claiming this as a recurring payment versus a one time payment. Which it is n't and never has been. I pay this manually based on the months that I want the service, if you notice on the account for this vendor, it 's paid on different dates of the months that I use the service. When I placed my account in a status of declining overdraft protection, M & T bank did n't tell me I needed to specify transaction types in which I wanted no overdraft protection. No overdraft means no overdraft, does n't matter the type of transaction.\"),\n",
       " Row(complaint_what_happened=''),\n",
       " Row(complaint_what_happened=''),\n",
       " Row(complaint_what_happened=\"I WENT THRU SMALL CLAIMS COURT IN XXXX AND SUED THE XXXX FOR THE COST OF DAMAGES OF MY BELONGINGS BEING DESTROYED IN A STORAGE UNIT. THE JUDGEMENT FOR THE ORDER WAS THAT I WAS TO HAVE ACCESS TO GET MY BELONGINGS AND XXXX GROUP WAS NOT TO TRY TO COLLECT ANYTHING FROM ME AS I HAD A XXXX BALANCE. ON OR ABOUT XX/XX/XXXX I RECEIVED A LETTER FROM XXXX STATING THAT I OWED XXXX XXXX. I CALLED XXXX AT LAZARUS XXXX AND EXPLAINED THE SITUATION. I THEN MAILED THE COPY OF THE JUDGEMENT ON XX/XX/2016 AND THEN I NOTICED THAT THE COMPANY PLACED ON MY CREDIT. I TRIED TO REACH THIS COMPANY FOR XXXX WEEKS STRAIGHT AND THE PHONE JUST RANG, I WAS UNABLE TO LEAVE A VOICEMAIL AND NO ONE RESPONDED TO EMAILS. I THEN EMAILED ANOTHER COPY OF JUDGEMENT FROM THE XXXX COURTS ON XX/XX/XXXX. XXXX CONFIRMED RECEIPT AFTER NUMEROUS ATTEMPTS TO REACH THEM ON XX/XX/XXXX AND TOLD ME THAT HE DID N'T BELIEVE THIS JUDGEMENT AND HE HAD TO TO FURTHER RESEARCH AND WOULD NOT REMOVE IT. IT HAS NOT BEEN XXXX AND THIS DEBT IS STILL ON MY CREDIT. I HAVE A LEGAL ORDER THAT I DO NOT OWE THIS COMPANY ANYTHING AS MY ITEMS WERE COMPLETELY DAMAGED AND THEY WAITED XXXX AFTER COURT TO SEND TO COLLECTION AGENCY WHO DOES NOT RESPOND. I AM SEEKING THAT THIS COMPANY REMOVE THIS FROM MY CREDIT AS IT IS NOT VALID AND IS BEING ILLEGALLY REPORTED. I AM A SINGLE MOTHER IN THE PROCESS OF GETTING A HOME AND THIS IS PREVENTING ME MY MAKING MY CREDIT SCORE DROP.I NEVER RECEIVED ANY CORRESPONDENCE AFTER COURT DATE FROM COMPANY SHOWING BALANCE OR ATTEMPT TO COLLECT TO RESOLVE. FIRST LETTER WAS IN XX/XX/XXXX FROM LAZROUS GROUP\"),\n",
       " Row(complaint_what_happened='Wells Fargo Home Mortgage continues to collect taxes in an escrow account year after year despite the fact that I do not have to pay taxes under the Texas XXXX XXXX veteran law/act. They apply the escrow money each year to the principal on the loan. Numerous telephone conversations over the years has proved fruitless. The purpose of the tax exemption is to provide more money on a monthly basis to XXXX veterans. If Wells Fargo is doing this to all these types of Texas mortgages the amount of money they are accruing could be substantial!')]"
      ]
     },
     "execution_count": 150,
     "metadata": {},
     "output_type": "execute_result"
    }
   ],
   "source": [
    "sql(f\"select {df.complaint_what_happened} from {complaint_table} limit 5\").collect()"
   ]
  },
  {
   "cell_type": "code",
   "execution_count": 151,
   "metadata": {},
   "outputs": [],
   "source": [
    "TOKENIZER_FEATURE = [df.complaint_what_happened]"
   ]
  },
  {
   "cell_type": "code",
   "execution_count": 153,
   "metadata": {},
   "outputs": [],
   "source": [
    "FREQUENCY_ENCODING = [df.company,df.issue,df.state,df.zip_code]"
   ]
  },
  {
   "cell_type": "code",
   "execution_count": 154,
   "metadata": {},
   "outputs": [
    {
     "data": {
      "text/plain": [
       "['consumer_disputed']"
      ]
     },
     "execution_count": 154,
     "metadata": {},
     "output_type": "execute_result"
    }
   ],
   "source": [
    "TARGET_FEATURE"
   ]
  },
  {
   "cell_type": "code",
   "execution_count": 155,
   "metadata": {},
   "outputs": [],
   "source": [
    "from pyspark.sql.types import TimestampType\n",
    "from pyspark.sql.functions import col\n"
   ]
  },
  {
   "cell_type": "code",
   "execution_count": 171,
   "metadata": {},
   "outputs": [],
   "source": [
    "df=df.withColumn(df.date_received,col(df.date_received).cast(TimestampType()))"
   ]
  },
  {
   "cell_type": "code",
   "execution_count": 173,
   "metadata": {},
   "outputs": [],
   "source": [
    "update_column_attribute(df)"
   ]
  },
  {
   "cell_type": "code",
   "execution_count": 174,
   "metadata": {},
   "outputs": [
    {
     "name": "stdout",
     "output_type": "stream",
     "text": [
      "root\n",
      " |-- company: string (nullable = true)\n",
      " |-- company_response: string (nullable = true)\n",
      " |-- complaint_what_happened: string (nullable = true)\n",
      " |-- consumer_consent_provided: string (nullable = true)\n",
      " |-- consumer_disputed: string (nullable = true)\n",
      " |-- date_received: timestamp (nullable = true)\n",
      " |-- date_sent_to_company: timestamp (nullable = true)\n",
      " |-- issue: string (nullable = true)\n",
      " |-- product: string (nullable = true)\n",
      " |-- state: string (nullable = true)\n",
      " |-- submitted_via: string (nullable = true)\n",
      " |-- timely: string (nullable = true)\n",
      " |-- zip_code: string (nullable = true)\n",
      "\n"
     ]
    }
   ],
   "source": [
    "df=df.withColumn(df.date_sent_to_company,col(df.date_sent_to_company).cast(TimestampType()))\n",
    "df.printSchema()"
   ]
  },
  {
   "cell_type": "code",
   "execution_count": 175,
   "metadata": {},
   "outputs": [
    {
     "name": "stdout",
     "output_type": "stream",
     "text": [
      "+-------------------+--------------------+\n",
      "|      date_received|date_sent_to_company|\n",
      "+-------------------+--------------------+\n",
      "|2016-11-14 22:30:00| 2016-11-14 22:30:00|\n",
      "|2016-11-16 22:30:00| 2016-12-20 22:30:00|\n",
      "|2016-11-05 22:30:00| 2016-11-12 22:30:00|\n",
      "|2016-11-17 22:30:00| 2016-11-18 22:30:00|\n",
      "|2016-10-23 22:30:00| 2016-10-23 22:30:00|\n",
      "|2016-10-31 22:30:00| 2016-10-31 22:30:00|\n",
      "|2016-11-11 22:30:00| 2016-11-16 22:30:00|\n",
      "|2016-10-26 22:30:00| 2016-10-26 22:30:00|\n",
      "|2016-11-09 22:30:00| 2016-11-10 22:30:00|\n",
      "|2016-10-23 22:30:00| 2017-01-06 22:30:00|\n",
      "|2016-11-01 22:30:00| 2016-11-14 22:30:00|\n",
      "|2016-11-17 22:30:00| 2016-11-17 22:30:00|\n",
      "|2016-11-14 22:30:00| 2016-11-15 22:30:00|\n",
      "|2016-11-05 22:30:00| 2016-11-05 22:30:00|\n",
      "|2016-11-02 22:30:00| 2016-11-02 22:30:00|\n",
      "|2016-11-09 22:30:00| 2016-11-27 22:30:00|\n",
      "|2016-11-15 22:30:00| 2016-11-15 22:30:00|\n",
      "|2016-11-02 22:30:00| 2016-12-09 22:30:00|\n",
      "|2016-11-01 22:30:00| 2016-11-01 22:30:00|\n",
      "|2016-11-10 22:30:00| 2016-11-10 22:30:00|\n",
      "+-------------------+--------------------+\n",
      "only showing top 20 rows\n",
      "\n"
     ]
    }
   ],
   "source": [
    "df.select([df.date_received,df.date_sent_to_company]).show()"
   ]
  },
  {
   "cell_type": "code",
   "execution_count": 178,
   "metadata": {},
   "outputs": [],
   "source": [
    "update_column_attribute(df)"
   ]
  },
  {
   "cell_type": "code",
   "execution_count": 176,
   "metadata": {},
   "outputs": [],
   "source": [
    "from pyspark.sql.types import  LongType"
   ]
  },
  {
   "cell_type": "code",
   "execution_count": 179,
   "metadata": {},
   "outputs": [],
   "source": [
    "df = df.withColumn(\"diff_in_days\",(col(df.date_sent_to_company).cast(LongType())-col(df.date_received).cast(LongType()))/(60*60*24))"
   ]
  },
  {
   "cell_type": "code",
   "execution_count": 180,
   "metadata": {},
   "outputs": [],
   "source": [
    "update_column_attribute(df)"
   ]
  },
  {
   "cell_type": "code",
   "execution_count": 182,
   "metadata": {},
   "outputs": [],
   "source": [
    "df=df.drop(col(df.date_received)).drop(col(df.date_sent_to_company))"
   ]
  },
  {
   "cell_type": "code",
   "execution_count": 183,
   "metadata": {},
   "outputs": [
    {
     "data": {
      "text/plain": [
       "['company_response',\n",
       " 'consumer_consent_provided',\n",
       " 'submitted_via',\n",
       " 'timely',\n",
       " 'company',\n",
       " 'issue',\n",
       " 'state',\n",
       " 'zip_code',\n",
       " 'product',\n",
       " 'consumer_disputed']"
      ]
     },
     "execution_count": 183,
     "metadata": {},
     "output_type": "execute_result"
    }
   ],
   "source": [
    "NUMERICAL_FEATURE = [df.diff_in_days,]\n",
    "ONE_HOT_FEATURE+\\\n",
    "FREQUENCY_ENCODING+\\\n",
    "BINARY_ENCODING+\\\n",
    "TARGET_FEATURE"
   ]
  },
  {
   "cell_type": "code",
   "execution_count": null,
   "metadata": {},
   "outputs": [],
   "source": []
  }
 ],
 "metadata": {
  "kernelspec": {
   "display_name": "Python 3.8.10 64-bit",
   "language": "python",
   "name": "python3"
  },
  "language_info": {
   "codemirror_mode": {
    "name": "ipython",
    "version": 3
   },
   "file_extension": ".py",
   "mimetype": "text/x-python",
   "name": "python",
   "nbconvert_exporter": "python",
   "pygments_lexer": "ipython3",
   "version": "3.8.10"
  },
  "orig_nbformat": 4,
  "vscode": {
   "interpreter": {
    "hash": "e7370f93d1d0cde622a1f8e1c04877d8463912d04d973331ad4851f04de6915a"
   }
  }
 },
 "nbformat": 4,
 "nbformat_minor": 2
}
